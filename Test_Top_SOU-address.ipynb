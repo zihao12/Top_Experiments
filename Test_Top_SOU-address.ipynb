{
 "cells": [
  {
   "cell_type": "markdown",
   "metadata": {},
   "source": [
    "## Overview;\n",
    "I make a count matrix from 226 SOU addresses by 41 presidents in the United States. (build a dictionary of words and count the number of occurences of words in the speech after cleaning). Then I apply the Top function to the matrix and get some interesting results."
   ]
  },
  {
   "cell_type": "code",
   "execution_count": 2,
   "metadata": {},
   "outputs": [],
   "source": [
    "import sys\n",
    "sys.path.insert(0,'../code/')\n",
    "import Top"
   ]
  },
  {
   "cell_type": "code",
   "execution_count": 57,
   "metadata": {},
   "outputs": [
    {
     "name": "stdout",
     "output_type": "stream",
     "text": [
      "[nltk_data] Downloading package punkt to /Users/ontheroad/nltk_data...\n",
      "[nltk_data]   Package punkt is already up-to-date!\n"
     ]
    }
   ],
   "source": [
    "import numpy as np\n",
    "import pandas as pd\n",
    "import matplotlib.pyplot as plt\n",
    "import sklearn\n",
    "import pickle\n",
    "import pyspark\n",
    "import nltk\n",
    "nltk.download('punkt')\n",
    "import itertools\n",
    "import string\n",
    "import os\n",
    "import re\n",
    "import math\n",
    "from scipy.spatial import distance_matrix\n",
    "#import Top"
   ]
  },
  {
   "cell_type": "code",
   "execution_count": 64,
   "metadata": {},
   "outputs": [],
   "source": [
    "f = open(\"../data/speeches.pkl\",'rb')\n",
    "speeches = pickle.load(f)\n",
    "speeches = pd.DataFrame(speeches,columns = ['president','words','year'])"
   ]
  },
  {
   "cell_type": "markdown",
   "metadata": {},
   "source": [
    "## Compute Word Counts for Each SOU Address"
   ]
  },
  {
   "cell_type": "code",
   "execution_count": 65,
   "metadata": {},
   "outputs": [],
   "source": [
    "## clean the data\n",
    "def clean_and_split(s):\n",
    "             # encode to UTF-8, convert to lowercase and translate all hyphens and\n",
    "             # punctuation to whitespace\n",
    "             s = s.lower().replace('-',' ').translate(string.punctuation)\n",
    "             # replace \\r\\n\n",
    "             s = re.sub('(\\r\\n)+',' ',s)\n",
    "             # replace whitespace substrings with one whitespace and remove\n",
    "             # leading/trailing whitespaces\n",
    "             s = re.sub(' +',' ',s.strip())\n",
    "             return s.split(' ')\n"
   ]
  },
  {
   "cell_type": "code",
   "execution_count": 66,
   "metadata": {
    "scrolled": true
   },
   "outputs": [],
   "source": [
    "speeches['cleaned'] = speeches['words'].apply(clean_and_split)"
   ]
  },
  {
   "cell_type": "code",
   "execution_count": 67,
   "metadata": {},
   "outputs": [],
   "source": [
    "## decide vocabulary \n",
    "voc_pool = list(itertools.chain.from_iterable(speeches['cleaned']))\n",
    "voc_counts = pd.value_counts(voc_pool)\n",
    "voc_counts = pd.DataFrame(voc_counts)\n",
    "voc_counts = voc_counts.loc[voc_counts.loc[:,0] > 50,:]\n",
    "voc_counts = voc_counts.iloc[20:,:]\n",
    "voc = voc_counts.index"
   ]
  },
  {
   "cell_type": "code",
   "execution_count": 68,
   "metadata": {},
   "outputs": [],
   "source": [
    "## begin to compute \"TF-IDF\"\n",
    "from collections import Counter\n",
    "word_counter = [Counter(x) for x in speeches['cleaned']]\n",
    "## speech[\"TF-IDF\"] here is now only the n_i(d)\n",
    "speeches[\"TF-IDF\"] = [pd.DataFrame([y[x] for x in voc],index = voc)\\\n",
    "                      for y in word_counter] \n",
    "\n",
    "\n"
   ]
  },
  {
   "cell_type": "markdown",
   "metadata": {},
   "source": [
    "## Construct Count Matrix X "
   ]
  },
  {
   "cell_type": "code",
   "execution_count": 79,
   "metadata": {},
   "outputs": [
    {
     "data": {
      "text/plain": [
       "(3279, 226)"
      ]
     },
     "execution_count": 79,
     "metadata": {},
     "output_type": "execute_result"
    }
   ],
   "source": [
    "## X is of shape [p,n], where p is the length of the vocabulary, n is the number of documents\n",
    "\n",
    "p = len(voc)\n",
    "N = p\n",
    "n = len(speeches[\"TF-IDF\"])\n",
    "X = np.concatenate(speeches[\"TF-IDF\"], axis = 1)\n",
    "X.shape"
   ]
  },
  {
   "cell_type": "code",
   "execution_count": 45,
   "metadata": {},
   "outputs": [],
   "source": [
    "## Take out rows with zero rowsums"
   ]
  },
  {
   "cell_type": "code",
   "execution_count": 81,
   "metadata": {},
   "outputs": [
    {
     "data": {
      "text/plain": [
       "(array([], dtype=int64),)"
      ]
     },
     "execution_count": 81,
     "metadata": {},
     "output_type": "execute_result"
    }
   ],
   "source": [
    "p0 = np.where(X.sum(axis = 1) == 0)\n",
    "p0\n",
    "## \"no need to take out any word from vocabulary\""
   ]
  },
  {
   "cell_type": "markdown",
   "metadata": {},
   "source": [
    "## Run Experiments"
   ]
  },
  {
   "cell_type": "code",
   "execution_count": 73,
   "metadata": {},
   "outputs": [
    {
     "name": "stdout",
     "output_type": "stream",
     "text": [
      "run finished after:  8.34918999671936\n"
     ]
    }
   ],
   "source": [
    "import time\n",
    "start = time.time()\n",
    "test = Top.Top(X)\n",
    "print(\"run finished after: \", str(time.time() - start))"
   ]
  },
  {
   "cell_type": "code",
   "execution_count": 82,
   "metadata": {},
   "outputs": [
    {
     "data": {
      "text/plain": [
       "44"
      ]
     },
     "execution_count": 82,
     "metadata": {},
     "output_type": "execute_result"
    }
   ],
   "source": [
    "test[\"K\"]"
   ]
  },
  {
   "cell_type": "code",
   "execution_count": 91,
   "metadata": {},
   "outputs": [
    {
     "data": {
      "text/plain": [
       "41"
      ]
     },
     "execution_count": 91,
     "metadata": {},
     "output_type": "execute_result"
    }
   ],
   "source": [
    "speeches['president'].unique().shape[0]"
   ]
  },
  {
   "cell_type": "markdown",
   "metadata": {},
   "source": [
    "### Comment:\n",
    "The 226 documents are from 41 presidents, and the algorithm tells us there are 44 groups!"
   ]
  },
  {
   "cell_type": "code",
   "execution_count": 83,
   "metadata": {},
   "outputs": [],
   "source": [
    "anchor_group = []\n",
    "for group in test[\"Anchor groups\"]:\n",
    "    anchor_group.append(voc[group])\n",
    "    "
   ]
  },
  {
   "cell_type": "code",
   "execution_count": 84,
   "metadata": {},
   "outputs": [
    {
     "data": {
      "text/plain": [
       "[Index(['.+.+'], dtype='object'),\n",
       " Index(['scheme', 'tariff', 'manufacturers', 'imported'], dtype='object'),\n",
       " Index(['notes', 'gold'], dtype='object'),\n",
       " Index(['posts'], dtype='object'),\n",
       " Index(['banks', 'banks,', 'banking'], dtype='object'),\n",
       " Index(['soviet'], dtype='object'),\n",
       " Index(['hundred', 'seven', 'thousand', 'fleet', 'fifty', 'play', 'twelve'], dtype='object'),\n",
       " Index(['can't'], dtype='object'),\n",
       " Index(['challenge', 'parents'], dtype='object'),\n",
       " Index(['texas', 'annexation'], dtype='object'),\n",
       " Index(['inflation', 'foundation', 'path', 'percent.', 'anti'], dtype='object'),\n",
       " Index(['.+.+'], dtype='object'),\n",
       " Index(['democracy'], dtype='object'),\n",
       " Index(['specie', 'paper'], dtype='object'),\n",
       " Index(['atomic'], dtype='object'),\n",
       " Index(['gentlemen', 'majesty', 'engagements'], dtype='object'),\n",
       " Index(['acquisition'], dtype='object'),\n",
       " Index(['reserves', 'forest'], dtype='object'),\n",
       " Index(['railway', 'menace'], dtype='object'),\n",
       " Index(['german', 'germany'], dtype='object'),\n",
       " Index(['recovery'], dtype='object'),\n",
       " Index(['japanese'], dtype='object'),\n",
       " Index(['coinage', 'tender', 'coin'], dtype='object'),\n",
       " Index(['colombia', 'isthmus'], dtype='object'),\n",
       " Index(['21st'], dtype='object'),\n",
       " Index(['citizenship', 'naturalization', 'certificates', 'fraudulent',\n",
       "        'torpedo'],\n",
       "       dtype='object'),\n",
       " Index(['circuit'], dtype='object'),\n",
       " Index(['california', 'oregon', 'mineral'], dtype='object'),\n",
       " Index(['dollars.'], dtype='object'),\n",
       " Index(['wages', 'abuses', 'lowest', 'purchasing', 'practices', 'groups',\n",
       "        'elimination', 'crop', 'farms', 'type'],\n",
       "       dtype='object'),\n",
       " Index(['kansas'], dtype='object'),\n",
       " Index(['got', 'gas'], dtype='object'),\n",
       " Index(['deposits', 'procedure', 'consolidation', 'equity'], dtype='object'),\n",
       " Index(['terrorists', 'iraq', 'iraqi', 'al'], dtype='object'),\n",
       " Index(['hostility', 'enemy', 'contest', 'remainder', 'squadron', 'gained',\n",
       "        'captain', 'lake'],\n",
       "       dtype='object'),\n",
       " Index(['colored', 'ratio'], dtype='object'),\n",
       " Index(['steamers'], dtype='object'),\n",
       " Index(['puerto'], dtype='object'),\n",
       " Index(['cable'], dtype='object'),\n",
       " Index(['.'], dtype='object'),\n",
       " Index(['vietnam'], dtype='object'),\n",
       " Index(['constructive', 'profitable', 'say,', 'counsel', 'tasks'], dtype='object'),\n",
       " Index(['discriminating'], dtype='object'),\n",
       " Index(['1890,'], dtype='object')]"
      ]
     },
     "execution_count": 84,
     "metadata": {},
     "output_type": "execute_result"
    }
   ],
   "source": [
    "anchor_group"
   ]
  },
  {
   "cell_type": "markdown",
   "metadata": {},
   "source": [
    "### Comment:\n",
    "Some of the anchor words indeed make sense..."
   ]
  },
  {
   "cell_type": "code",
   "execution_count": null,
   "metadata": {},
   "outputs": [],
   "source": []
  }
 ],
 "metadata": {
  "kernelspec": {
   "display_name": "Python 3",
   "language": "python",
   "name": "python3"
  },
  "language_info": {
   "codemirror_mode": {
    "name": "ipython",
    "version": 3
   },
   "file_extension": ".py",
   "mimetype": "text/x-python",
   "name": "python",
   "nbconvert_exporter": "python",
   "pygments_lexer": "ipython3",
   "version": "3.6.3"
  }
 },
 "nbformat": 4,
 "nbformat_minor": 2
}
