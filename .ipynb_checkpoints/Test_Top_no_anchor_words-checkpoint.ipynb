{
 "cells": [
  {
   "cell_type": "markdown",
   "metadata": {},
   "source": [
    "## Goal\n",
    "Count data is from Pi ([p,n]) which has no anchor words, and all samples are from one of the K groups purely"
   ]
  },
  {
   "cell_type": "code",
   "execution_count": 62,
   "metadata": {},
   "outputs": [],
   "source": [
    "import sys\n",
    "sys.path.insert(0,'../Top_code/')\n",
    "import Top\n",
    "import numpy as np\n",
    "import time\n",
    "import random\n",
    "random.seed(12345)\n",
    "np.random.seed(12345)\n",
    "\n",
    "K = 5\n",
    "p = 3000\n",
    "N = 5000\n",
    "n = 50\n",
    "\n",
    "## generate A (with no anchor words: each row has more than one nonzero entry)\n",
    "A = np.zeros(shape=[p,K])\n",
    "\n",
    "for row in A:\n",
    "    n_sample = np.random.randint(2,K,1)\n",
    "    row_indx = np.random.randint(0,K,n_sample)\n",
    "    row_val = np.random.uniform(0,1,n_sample)\n",
    "    row[row_indx] = row_val\n",
    "### scale A so that column sums to 1\n",
    "A = A/A.sum(axis = 0)\n",
    "\n",
    "## generate W (each column has only one nonzero entry: 1)\n",
    "WT = np.zeros(shape=[n,K])\n",
    "for row in WT:\n",
    "    row[np.random.randint(0,K,1)] = 1\n",
    "W = WT.transpose()\n",
    "\n",
    "\n",
    "## generate Pi\n",
    "Pi = np.dot(A,W)\n",
    "\n",
    "## generate X\n",
    "## generate X\n",
    "X = np.zeros(shape = [p,n])\n",
    "for column in range(n):\n",
    "    X[:,column] = np.random.multinomial(N,Pi[:,column])\n"
   ]
  },
  {
   "cell_type": "code",
   "execution_count": 63,
   "metadata": {},
   "outputs": [
    {
     "data": {
      "text/plain": [
       "(array([1074, 1191, 1373, 1722]),)"
      ]
     },
     "execution_count": 63,
     "metadata": {},
     "output_type": "execute_result"
    }
   ],
   "source": [
    "## note empty documents to facilitae comparison\n",
    "zero_row= np.where(X.sum(axis=1)==0)\n",
    "zero_row"
   ]
  },
  {
   "cell_type": "code",
   "execution_count": 64,
   "metadata": {},
   "outputs": [
    {
     "name": "stdout",
     "output_type": "stream",
     "text": [
      "run finished after:  1.5460395812988281\n"
     ]
    }
   ],
   "source": [
    "## experiments\n",
    "start = time.time()\n",
    "top_nonanchor = Top.Top(X,T=1)\n",
    "print(\"run finished after: \", str(time.time()-start))"
   ]
  },
  {
   "cell_type": "code",
   "execution_count": 65,
   "metadata": {},
   "outputs": [
    {
     "data": {
      "text/plain": [
       "8"
      ]
     },
     "execution_count": 65,
     "metadata": {},
     "output_type": "execute_result"
    }
   ],
   "source": [
    "top_nonanchor[\"K\"]"
   ]
  },
  {
   "cell_type": "markdown",
   "metadata": {},
   "source": [
    "## Comment:\n",
    "K is slightly larger"
   ]
  },
  {
   "cell_type": "code",
   "execution_count": 66,
   "metadata": {},
   "outputs": [],
   "source": [
    "A = top_nonanchor[\"A\"] "
   ]
  },
  {
   "cell_type": "code",
   "execution_count": 69,
   "metadata": {},
   "outputs": [
    {
     "name": "stderr",
     "output_type": "stream",
     "text": [
      "/srv/jupyterhub/anaconda3/lib/python3.6/site-packages/ipykernel/__main__.py:1: FutureWarning: `rcond` parameter will change to the default of machine precision times ``max(M, N)`` where M and N are the input matrix dimensions.\n",
      "To use the future default and silence this warning we advise to pass `rcond=None`, to keep using the old, explicitly pass `rcond=-1`.\n",
      "  if __name__ == '__main__':\n"
     ]
    }
   ],
   "source": [
    "W = np.linalg.lstsq(A,Pi[np.where(X.sum(axis=1)!=0)[0],:])"
   ]
  },
  {
   "cell_type": "code",
   "execution_count": 92,
   "metadata": {},
   "outputs": [
    {
     "data": {
      "text/plain": [
       "0.0014340726935883636"
      ]
     },
     "execution_count": 92,
     "metadata": {},
     "output_type": "execute_result"
    }
   ],
   "source": [
    "diff = Pi[np.where(X.sum(axis=1)!=0)[0],:]-np.dot(A,W[0])\n",
    "square_loss = np.square(diff).sum()\n",
    "\n",
    "square_loss"
   ]
  },
  {
   "cell_type": "code",
   "execution_count": 82,
   "metadata": {},
   "outputs": [
    {
     "name": "stderr",
     "output_type": "stream",
     "text": [
      "/srv/jupyterhub/anaconda3/lib/python3.6/site-packages/ipykernel/__main__.py:1: RuntimeWarning: invalid value encountered in log\n",
      "  if __name__ == '__main__':\n"
     ]
    },
    {
     "data": {
      "text/plain": [
       "array([[-0.00710235, -0.        , -0.00627993, ..., -0.00710235,\n",
       "        -0.00710235, -0.00710235],\n",
       "       [-0.00129825, -0.00013398, -0.00325632, ..., -0.00129825,\n",
       "        -0.00129825, -0.00129825],\n",
       "       [-0.        , -0.00652262, -0.00670559, ..., -0.        ,\n",
       "        -0.        , -0.        ],\n",
       "       ...,\n",
       "       [-0.        , -0.00898087, -0.        , ..., -0.        ,\n",
       "        -0.        , -0.        ],\n",
       "       [-0.00095257, -0.        , -0.        , ..., -0.00095257,\n",
       "        -0.00095257, -0.00095257],\n",
       "       [-0.        , -0.0038374 , -0.00160485, ..., -0.        ,\n",
       "        -0.        , -0.        ]])"
      ]
     },
     "execution_count": 82,
     "metadata": {},
     "output_type": "execute_result"
    }
   ],
   "source": [
    "loglik = Pi[np.where(X.sum(axis=1)!=0)[0],:] * np.log(np.dot(A,W[0]))\n",
    "loglik"
   ]
  },
  {
   "cell_type": "markdown",
   "metadata": {},
   "source": [
    "## Comment:\n",
    "Least square loss is good. But too many 0s given. This way of solving W is not good."
   ]
  },
  {
   "cell_type": "code",
   "execution_count": 86,
   "metadata": {},
   "outputs": [
    {
     "data": {
      "text/plain": [
       "(2996, 8)"
      ]
     },
     "execution_count": 86,
     "metadata": {},
     "output_type": "execute_result"
    }
   ],
   "source": [
    "A.shape"
   ]
  },
  {
   "cell_type": "code",
   "execution_count": 87,
   "metadata": {},
   "outputs": [
    {
     "data": {
      "text/plain": [
       "(3000, 50)"
      ]
     },
     "execution_count": 87,
     "metadata": {},
     "output_type": "execute_result"
    }
   ],
   "source": [
    "Pi.shape"
   ]
  },
  {
   "cell_type": "code",
   "execution_count": 88,
   "metadata": {},
   "outputs": [],
   "source": [
    "np.savetxt(\"../Top_data/Pi_K5.csv\", Pi, delimiter=\",\")\n",
    "np.savetxt(\"../Top_data/countX_K5.csv\", X, delimiter=\",\")\n",
    "np.savetxt(\"../Top_data/topA_K5.csv\", A, delimiter=\",\")\n"
   ]
  },
  {
   "cell_type": "markdown",
   "metadata": {},
   "source": [
    "## See how accurate Top can estimate K"
   ]
  },
  {
   "cell_type": "code",
   "execution_count": 32,
   "metadata": {},
   "outputs": [],
   "source": [
    "def experiment_with_p(p, K = 5, n = 50):\n",
    "    #K = 5\n",
    "    #p = 3000\n",
    "    N = 1500\n",
    "    #n = 50\n",
    "\n",
    "    ## generate A\n",
    "    A = np.zeros(shape=[p,K])\n",
    "\n",
    "    for row in A:\n",
    "        n_sample = np.random.randint(2,K,1)\n",
    "        row_indx = np.random.randint(0,K,n_sample)\n",
    "        row_val = np.random.uniform(0,1,n_sample)\n",
    "        row[row_indx] = row_val\n",
    "    ### scale A so that column sums to 1\n",
    "    A = A/A.sum(axis = 0)\n",
    "\n",
    "    ## generate W (each column has only one nonzero entry: 1)\n",
    "    WT = np.zeros(shape=[n,K])\n",
    "    for row in WT:\n",
    "        row[np.random.randint(0,K,1)] = 1\n",
    "    W = WT.transpose()\n",
    "\n",
    "\n",
    "    ## generate Pi\n",
    "    Pi = np.dot(A,W)\n",
    "\n",
    "    ## generate X\n",
    "    ## generate X\n",
    "    X = np.zeros(shape = [p,n])\n",
    "    for column in range(n):\n",
    "        X[:,column] = np.random.multinomial(N,Pi[:,column])\n",
    "    \n",
    "    return(Top.Top(X,T=1)[\"K\"])\n"
   ]
  },
  {
   "cell_type": "code",
   "execution_count": 35,
   "metadata": {},
   "outputs": [],
   "source": [
    "def experiment_with_p_mean(p,n, K = 5, nn = 50):\n",
    "    k = 0\n",
    "    for i in range(n):\n",
    "        k += experiment_with_p(p, K = K, n = nn)\n",
    "    k = k/n\n",
    "    return(k)"
   ]
  },
  {
   "cell_type": "code",
   "execution_count": 18,
   "metadata": {},
   "outputs": [
    {
     "data": {
      "text/plain": [
       "4.1"
      ]
     },
     "execution_count": 18,
     "metadata": {},
     "output_type": "execute_result"
    }
   ],
   "source": [
    "experiment_with_p_mean(100,10)"
   ]
  },
  {
   "cell_type": "code",
   "execution_count": 27,
   "metadata": {},
   "outputs": [
    {
     "data": {
      "text/plain": [
       "[4.1, 4.5, 4.4, 4.4, 5.0, 5.1, 5.0, 5.6, 5.6]"
      ]
     },
     "execution_count": 27,
     "metadata": {},
     "output_type": "execute_result"
    }
   ],
   "source": [
    "[experiment_with_p_mean(100*x,10) for x in range(1,10)]"
   ]
  },
  {
   "cell_type": "code",
   "execution_count": 28,
   "metadata": {},
   "outputs": [
    {
     "data": {
      "text/plain": [
       "[5.5, 5.3, 6.0, 5.8, 6.2, 6.2, 7.1, 7.0, 7.5]"
      ]
     },
     "execution_count": 28,
     "metadata": {},
     "output_type": "execute_result"
    }
   ],
   "source": [
    "[experiment_with_p_mean(100*x,10, K = 10) for x in range(1,10)]"
   ]
  },
  {
   "cell_type": "code",
   "execution_count": 29,
   "metadata": {},
   "outputs": [
    {
     "data": {
      "text/plain": [
       "[7.3, 7.4, 7.9, 8.1, 7.9, 8.5, 9.0, 8.6, 8.6]"
      ]
     },
     "execution_count": 29,
     "metadata": {},
     "output_type": "execute_result"
    }
   ],
   "source": [
    "[experiment_with_p_mean(100*x,10, K = 20) for x in range(1,10)]"
   ]
  },
  {
   "cell_type": "code",
   "execution_count": 30,
   "metadata": {},
   "outputs": [
    {
     "data": {
      "text/plain": [
       "[7.8, 7.7, 7.7, 8.1, 8.7, 8.8, 8.6, 9.8, 9.7]"
      ]
     },
     "execution_count": 30,
     "metadata": {},
     "output_type": "execute_result"
    }
   ],
   "source": [
    "[experiment_with_p_mean(150*x,10, K = 20) for x in range(1,10)]"
   ]
  },
  {
   "cell_type": "markdown",
   "metadata": {},
   "source": [
    "#### Comment:\n",
    "It seems not accurate, but maybe we need to give it more samples."
   ]
  },
  {
   "cell_type": "code",
   "execution_count": 36,
   "metadata": {},
   "outputs": [
    {
     "data": {
      "text/plain": [
       "[15.1, 14.0, 14.9, 14.6, 15.5, 16.3, 15.6, 17.0, 17.3]"
      ]
     },
     "execution_count": 36,
     "metadata": {},
     "output_type": "execute_result"
    }
   ],
   "source": [
    "[experiment_with_p_mean(150*x,10, K = 20, nn = 200) for x in range(1,10)]"
   ]
  },
  {
   "cell_type": "markdown",
   "metadata": {},
   "source": [
    "## Comment:\n",
    "Seems that Top can find pretty good Ks, given samples are sufficient"
   ]
  },
  {
   "cell_type": "code",
   "execution_count": null,
   "metadata": {},
   "outputs": [],
   "source": []
  }
 ],
 "metadata": {
  "kernelspec": {
   "display_name": "Python 3, gcc 4.8",
   "language": "python",
   "name": "python3gcc4.8"
  },
  "language_info": {
   "codemirror_mode": {
    "name": "ipython",
    "version": 3
   },
   "file_extension": ".py",
   "mimetype": "text/x-python",
   "name": "python",
   "nbconvert_exporter": "python",
   "pygments_lexer": "ipython3",
   "version": "3.6.3"
  }
 },
 "nbformat": 4,
 "nbformat_minor": 2
}
